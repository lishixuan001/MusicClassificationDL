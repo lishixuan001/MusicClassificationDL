{
 "cells": [
  {
   "cell_type": "code",
   "execution_count": 1,
   "metadata": {},
   "outputs": [],
   "source": [
    "# usual imports\n",
    "import os\n",
    "import sys\n",
    "import time\n",
    "import glob\n",
    "import datetime\n",
    "import sqlite3\n",
    "import pandas as pd\n",
    "import numpy as np # get it at: http://numpy.scipy.org/\n",
    "import pickle"
   ]
  },
  {
   "cell_type": "markdown",
   "metadata": {},
   "source": [
    "# Get full usage data dataset"
   ]
  },
  {
   "cell_type": "code",
   "execution_count": 8,
   "metadata": {},
   "outputs": [],
   "source": [
    "taste_profile_data_path = \"./data/train_triplets.txt\"\n",
    "data = pd.read_csv(taste_profile_data_path, sep=\"\\t\", header=None)\n",
    "data.columns = ['user', 'song', 'play_count']\n",
    "data = data.astype({'user': np.str, 'song': np.str, 'play_count': np.int32})"
   ]
  },
  {
   "cell_type": "markdown",
   "metadata": {},
   "source": [
    "# Get popularity dataset"
   ]
  },
  {
   "cell_type": "code",
   "execution_count": 12,
   "metadata": {},
   "outputs": [],
   "source": [
    "popularity_set_path = \"./data/popularity.pkl\"\n",
    "with open(popularity_set_path, \"rb\") as f:\n",
    "    u = pickle._Unpickler(f)\n",
    "    u.encoding = 'latin1'\n",
    "    popularity_data = u.load()"
   ]
  },
  {
   "cell_type": "code",
   "execution_count": 14,
   "metadata": {},
   "outputs": [
    {
     "name": "stdout",
     "output_type": "stream",
     "text": [
      "(384546, 1)\n"
     ]
    },
    {
     "data": {
      "text/html": [
       "<div>\n",
       "<style scoped>\n",
       "    .dataframe tbody tr th:only-of-type {\n",
       "        vertical-align: middle;\n",
       "    }\n",
       "\n",
       "    .dataframe tbody tr th {\n",
       "        vertical-align: top;\n",
       "    }\n",
       "\n",
       "    .dataframe thead th {\n",
       "        text-align: right;\n",
       "    }\n",
       "</style>\n",
       "<table border=\"1\" class=\"dataframe\">\n",
       "  <thead>\n",
       "    <tr style=\"text-align: right;\">\n",
       "      <th></th>\n",
       "      <th>play_count</th>\n",
       "    </tr>\n",
       "    <tr>\n",
       "      <th>song</th>\n",
       "      <th></th>\n",
       "    </tr>\n",
       "  </thead>\n",
       "  <tbody>\n",
       "    <tr>\n",
       "      <th>SOBONKR12A58A7A7E0</th>\n",
       "      <td>726885</td>\n",
       "    </tr>\n",
       "    <tr>\n",
       "      <th>SOAUWYT12A81C206F1</th>\n",
       "      <td>648239</td>\n",
       "    </tr>\n",
       "    <tr>\n",
       "      <th>SOSXLTC12AF72A7F54</th>\n",
       "      <td>527893</td>\n",
       "    </tr>\n",
       "    <tr>\n",
       "      <th>SOFRQTD12A81C233C0</th>\n",
       "      <td>425463</td>\n",
       "    </tr>\n",
       "    <tr>\n",
       "      <th>SOEGIYH12A6D4FC0E3</th>\n",
       "      <td>389880</td>\n",
       "    </tr>\n",
       "  </tbody>\n",
       "</table>\n",
       "</div>"
      ],
      "text/plain": [
       "                    play_count\n",
       "song                          \n",
       "SOBONKR12A58A7A7E0      726885\n",
       "SOAUWYT12A81C206F1      648239\n",
       "SOSXLTC12AF72A7F54      527893\n",
       "SOFRQTD12A81C233C0      425463\n",
       "SOEGIYH12A6D4FC0E3      389880"
      ]
     },
     "execution_count": 14,
     "metadata": {},
     "output_type": "execute_result"
    }
   ],
   "source": [
    "print(popularity_data.shape)\n",
    "popularity_data.head()"
   ]
  },
  {
   "cell_type": "markdown",
   "metadata": {},
   "source": [
    "# Get mappings track, song, artist, title"
   ]
  },
  {
   "cell_type": "code",
   "execution_count": 20,
   "metadata": {},
   "outputs": [],
   "source": [
    "song_id_path = \"./data/song_track_artist.pkl\"\n",
    "with open(song_id_path, \"rb\") as f:\n",
    "    u = pickle._Unpickler(f)\n",
    "    u.encoding = 'latin1'\n",
    "    mapping_data = u.load()"
   ]
  },
  {
   "cell_type": "code",
   "execution_count": 22,
   "metadata": {},
   "outputs": [
    {
     "name": "stdout",
     "output_type": "stream",
     "text": [
      "(100600, 4)\n"
     ]
    },
    {
     "data": {
      "text/html": [
       "<div>\n",
       "<style scoped>\n",
       "    .dataframe tbody tr th:only-of-type {\n",
       "        vertical-align: middle;\n",
       "    }\n",
       "\n",
       "    .dataframe tbody tr th {\n",
       "        vertical-align: top;\n",
       "    }\n",
       "\n",
       "    .dataframe thead th {\n",
       "        text-align: right;\n",
       "    }\n",
       "</style>\n",
       "<table border=\"1\" class=\"dataframe\">\n",
       "  <thead>\n",
       "    <tr style=\"text-align: right;\">\n",
       "      <th></th>\n",
       "      <th>song_id</th>\n",
       "      <th>track_id</th>\n",
       "      <th>artist_id</th>\n",
       "      <th>song_name</th>\n",
       "    </tr>\n",
       "  </thead>\n",
       "  <tbody>\n",
       "    <tr>\n",
       "      <th>18</th>\n",
       "      <td>SOIMMJJ12AF72AD643</td>\n",
       "      <td>TRMMMTK128F424EF7C</td>\n",
       "      <td>Emery</td>\n",
       "      <td>Rock-N-Rule</td>\n",
       "    </tr>\n",
       "    <tr>\n",
       "      <th>32</th>\n",
       "      <td>SOGNNYL12A6D4F910B</td>\n",
       "      <td>TRMMMQN128F4238509</td>\n",
       "      <td>Prince &amp; The Revolution</td>\n",
       "      <td>Raspberry Beret (LP Version)</td>\n",
       "    </tr>\n",
       "    <tr>\n",
       "      <th>33</th>\n",
       "      <td>SOOLRHW12A8C142643</td>\n",
       "      <td>TRMMMKQ128F92EBCB5</td>\n",
       "      <td>Kreator</td>\n",
       "      <td>All of the same blood</td>\n",
       "    </tr>\n",
       "    <tr>\n",
       "      <th>47</th>\n",
       "      <td>SOWWQXA12A81C1F9CA</td>\n",
       "      <td>TRMMMFG128F425087B</td>\n",
       "      <td>Billy Idol</td>\n",
       "      <td>Scream</td>\n",
       "    </tr>\n",
       "    <tr>\n",
       "      <th>53</th>\n",
       "      <td>SOHMYGC12A6D4FAC4B</td>\n",
       "      <td>TRMMMQA128F14A454A</td>\n",
       "      <td>Diana Krall</td>\n",
       "      <td>Dancing In The Dark</td>\n",
       "    </tr>\n",
       "  </tbody>\n",
       "</table>\n",
       "</div>"
      ],
      "text/plain": [
       "               song_id            track_id                artist_id  \\\n",
       "18  SOIMMJJ12AF72AD643  TRMMMTK128F424EF7C                    Emery   \n",
       "32  SOGNNYL12A6D4F910B  TRMMMQN128F4238509  Prince & The Revolution   \n",
       "33  SOOLRHW12A8C142643  TRMMMKQ128F92EBCB5                  Kreator   \n",
       "47  SOWWQXA12A81C1F9CA  TRMMMFG128F425087B               Billy Idol   \n",
       "53  SOHMYGC12A6D4FAC4B  TRMMMQA128F14A454A              Diana Krall   \n",
       "\n",
       "                       song_name  \n",
       "18                   Rock-N-Rule  \n",
       "32  Raspberry Beret (LP Version)  \n",
       "33         All of the same blood  \n",
       "47                        Scream  \n",
       "53           Dancing In The Dark  "
      ]
     },
     "execution_count": 22,
     "metadata": {},
     "output_type": "execute_result"
    }
   ],
   "source": [
    "print(mapping_data.shape)\n",
    "mapping_data.head()"
   ]
  },
  {
   "cell_type": "markdown",
   "metadata": {},
   "source": [
    "# Get track_ids used in Neural Net"
   ]
  },
  {
   "cell_type": "code",
   "execution_count": 24,
   "metadata": {},
   "outputs": [],
   "source": [
    "track_ids_path = \"./data/track_ids.txt\"\n",
    "track_ids = np.loadtxt(track_ids_path, dtype=\"str\")\n"
   ]
  },
  {
   "cell_type": "code",
   "execution_count": 26,
   "metadata": {},
   "outputs": [
    {
     "data": {
      "text/plain": [
       "(32648,)"
      ]
     },
     "execution_count": 26,
     "metadata": {},
     "output_type": "execute_result"
    }
   ],
   "source": [
    "track_ids.shape"
   ]
  },
  {
   "cell_type": "markdown",
   "metadata": {},
   "source": [
    "# Get the usage data for track_ids used in Neural Net"
   ]
  },
  {
   "cell_type": "code",
   "execution_count": 28,
   "metadata": {},
   "outputs": [
    {
     "name": "stdout",
     "output_type": "stream",
     "text": [
      "(32648, 3)\n"
     ]
    },
    {
     "data": {
      "text/html": [
       "<div>\n",
       "<style scoped>\n",
       "    .dataframe tbody tr th:only-of-type {\n",
       "        vertical-align: middle;\n",
       "    }\n",
       "\n",
       "    .dataframe tbody tr th {\n",
       "        vertical-align: top;\n",
       "    }\n",
       "\n",
       "    .dataframe thead th {\n",
       "        text-align: right;\n",
       "    }\n",
       "</style>\n",
       "<table border=\"1\" class=\"dataframe\">\n",
       "  <thead>\n",
       "    <tr style=\"text-align: right;\">\n",
       "      <th></th>\n",
       "      <th>song_id</th>\n",
       "      <th>artist_id</th>\n",
       "      <th>song_name</th>\n",
       "    </tr>\n",
       "    <tr>\n",
       "      <th>track_id</th>\n",
       "      <th></th>\n",
       "      <th></th>\n",
       "      <th></th>\n",
       "    </tr>\n",
       "  </thead>\n",
       "  <tbody>\n",
       "    <tr>\n",
       "      <th>TRMMMTK128F424EF7C</th>\n",
       "      <td>SOIMMJJ12AF72AD643</td>\n",
       "      <td>Emery</td>\n",
       "      <td>Rock-N-Rule</td>\n",
       "    </tr>\n",
       "    <tr>\n",
       "      <th>TRMMMKQ128F92EBCB5</th>\n",
       "      <td>SOOLRHW12A8C142643</td>\n",
       "      <td>Kreator</td>\n",
       "      <td>All of the same blood</td>\n",
       "    </tr>\n",
       "    <tr>\n",
       "      <th>TRMMMFG128F425087B</th>\n",
       "      <td>SOWWQXA12A81C1F9CA</td>\n",
       "      <td>Billy Idol</td>\n",
       "      <td>Scream</td>\n",
       "    </tr>\n",
       "    <tr>\n",
       "      <th>TRMMMQA128F14A454A</th>\n",
       "      <td>SOHMYGC12A6D4FAC4B</td>\n",
       "      <td>Diana Krall</td>\n",
       "      <td>Dancing In The Dark</td>\n",
       "    </tr>\n",
       "    <tr>\n",
       "      <th>TRMMWJS12903CBB7F5</th>\n",
       "      <td>SOLBDWO12AB0188CC2</td>\n",
       "      <td>Aerosmith</td>\n",
       "      <td>Remember (Walking In The Sand)</td>\n",
       "    </tr>\n",
       "  </tbody>\n",
       "</table>\n",
       "</div>"
      ],
      "text/plain": [
       "                               song_id    artist_id  \\\n",
       "track_id                                              \n",
       "TRMMMTK128F424EF7C  SOIMMJJ12AF72AD643        Emery   \n",
       "TRMMMKQ128F92EBCB5  SOOLRHW12A8C142643      Kreator   \n",
       "TRMMMFG128F425087B  SOWWQXA12A81C1F9CA   Billy Idol   \n",
       "TRMMMQA128F14A454A  SOHMYGC12A6D4FAC4B  Diana Krall   \n",
       "TRMMWJS12903CBB7F5  SOLBDWO12AB0188CC2    Aerosmith   \n",
       "\n",
       "                                         song_name  \n",
       "track_id                                            \n",
       "TRMMMTK128F424EF7C                     Rock-N-Rule  \n",
       "TRMMMKQ128F92EBCB5           All of the same blood  \n",
       "TRMMMFG128F425087B                          Scream  \n",
       "TRMMMQA128F14A454A             Dancing In The Dark  \n",
       "TRMMWJS12903CBB7F5  Remember (Walking In The Sand)  "
      ]
     },
     "execution_count": 28,
     "metadata": {},
     "output_type": "execute_result"
    }
   ],
   "source": [
    "mapping_data_track_idx = mapping_data.set_index(\"track_id\")\n",
    "subset_mapping_data_track_idx = mapping_data_track_idx.loc[track_ids]\n",
    "print(subset_mapping_data_track_idx.shape)\n",
    "subset_mapping_data_track_idx.head()"
   ]
  },
  {
   "cell_type": "code",
   "execution_count": 31,
   "metadata": {},
   "outputs": [
    {
     "name": "stdout",
     "output_type": "stream",
     "text": [
      "(32648, 1)\n"
     ]
    },
    {
     "data": {
      "text/html": [
       "<div>\n",
       "<style scoped>\n",
       "    .dataframe tbody tr th:only-of-type {\n",
       "        vertical-align: middle;\n",
       "    }\n",
       "\n",
       "    .dataframe tbody tr th {\n",
       "        vertical-align: top;\n",
       "    }\n",
       "\n",
       "    .dataframe thead th {\n",
       "        text-align: right;\n",
       "    }\n",
       "</style>\n",
       "<table border=\"1\" class=\"dataframe\">\n",
       "  <thead>\n",
       "    <tr style=\"text-align: right;\">\n",
       "      <th></th>\n",
       "      <th>play_count</th>\n",
       "    </tr>\n",
       "    <tr>\n",
       "      <th>track_id</th>\n",
       "      <th></th>\n",
       "    </tr>\n",
       "  </thead>\n",
       "  <tbody>\n",
       "    <tr>\n",
       "      <th>TRMMMTK128F424EF7C</th>\n",
       "      <td>332</td>\n",
       "    </tr>\n",
       "    <tr>\n",
       "      <th>TRMMMKQ128F92EBCB5</th>\n",
       "      <td>128</td>\n",
       "    </tr>\n",
       "    <tr>\n",
       "      <th>TRMMMFG128F425087B</th>\n",
       "      <td>690</td>\n",
       "    </tr>\n",
       "    <tr>\n",
       "      <th>TRMMMQA128F14A454A</th>\n",
       "      <td>157</td>\n",
       "    </tr>\n",
       "    <tr>\n",
       "      <th>TRMMWJS12903CBB7F5</th>\n",
       "      <td>221</td>\n",
       "    </tr>\n",
       "  </tbody>\n",
       "</table>\n",
       "</div>"
      ],
      "text/plain": [
       "                    play_count\n",
       "track_id                      \n",
       "TRMMMTK128F424EF7C         332\n",
       "TRMMMKQ128F92EBCB5         128\n",
       "TRMMMFG128F425087B         690\n",
       "TRMMMQA128F14A454A         157\n",
       "TRMMWJS12903CBB7F5         221"
      ]
     },
     "execution_count": 31,
     "metadata": {},
     "output_type": "execute_result"
    }
   ],
   "source": [
    "subset_popularity = popularity_data.loc[subset_mapping_data_track_idx[\"song_id\"]]\n",
    "subset_popularity.index = subset_mapping_data_track_idx.index\n",
    "print(subset_popularity.shape)\n",
    "subset_popularity.head()"
   ]
  },
  {
   "cell_type": "code",
   "execution_count": 33,
   "metadata": {},
   "outputs": [],
   "source": [
    "subset_popularity.to_pickle(\"./data/nn_subset_popularity.pkl\")"
   ]
  },
  {
   "cell_type": "code",
   "execution_count": 3,
   "metadata": {},
   "outputs": [],
   "source": [
    "import pickle\n",
    "\n",
    "with open(\"data/nn_subset_popularity.pkl\", \"rb\") as f:\n",
    "    a = pickle.load(f)"
   ]
  },
  {
   "cell_type": "code",
   "execution_count": 11,
   "metadata": {},
   "outputs": [],
   "source": [
    "with open(\"./data/nn_subset_popularity.pkl\", \"wb\") as f:\n",
    "    pickle.dump(a, f)"
   ]
  },
  {
   "cell_type": "code",
   "execution_count": 10,
   "metadata": {},
   "outputs": [
    {
     "data": {
      "text/html": [
       "<div>\n",
       "<style scoped>\n",
       "    .dataframe tbody tr th:only-of-type {\n",
       "        vertical-align: middle;\n",
       "    }\n",
       "\n",
       "    .dataframe tbody tr th {\n",
       "        vertical-align: top;\n",
       "    }\n",
       "\n",
       "    .dataframe thead th {\n",
       "        text-align: right;\n",
       "    }\n",
       "</style>\n",
       "<table border=\"1\" class=\"dataframe\">\n",
       "  <thead>\n",
       "    <tr style=\"text-align: right;\">\n",
       "      <th></th>\n",
       "      <th>track_id</th>\n",
       "      <th>play_count</th>\n",
       "    </tr>\n",
       "  </thead>\n",
       "  <tbody>\n",
       "    <tr>\n",
       "      <th>0</th>\n",
       "      <td>TRMMMTK128F424EF7C</td>\n",
       "      <td>332</td>\n",
       "    </tr>\n",
       "    <tr>\n",
       "      <th>1</th>\n",
       "      <td>TRMMMKQ128F92EBCB5</td>\n",
       "      <td>128</td>\n",
       "    </tr>\n",
       "    <tr>\n",
       "      <th>2</th>\n",
       "      <td>TRMMMFG128F425087B</td>\n",
       "      <td>690</td>\n",
       "    </tr>\n",
       "    <tr>\n",
       "      <th>3</th>\n",
       "      <td>TRMMMQA128F14A454A</td>\n",
       "      <td>157</td>\n",
       "    </tr>\n",
       "    <tr>\n",
       "      <th>4</th>\n",
       "      <td>TRMMWJS12903CBB7F5</td>\n",
       "      <td>221</td>\n",
       "    </tr>\n",
       "  </tbody>\n",
       "</table>\n",
       "</div>"
      ],
      "text/plain": [
       "             track_id  play_count\n",
       "0  TRMMMTK128F424EF7C         332\n",
       "1  TRMMMKQ128F92EBCB5         128\n",
       "2  TRMMMFG128F425087B         690\n",
       "3  TRMMMQA128F14A454A         157\n",
       "4  TRMMWJS12903CBB7F5         221"
      ]
     },
     "execution_count": 10,
     "metadata": {},
     "output_type": "execute_result"
    }
   ],
   "source": [
    "df.to_csv(\"./data/nn_subset_popularity.pkl\")\n",
    "df.head()"
   ]
  },
  {
   "cell_type": "code",
   "execution_count": 8,
   "metadata": {},
   "outputs": [],
   "source": [
    "import pandas as pd"
   ]
  },
  {
   "cell_type": "code",
   "execution_count": 6,
   "metadata": {},
   "outputs": [],
   "source": [
    "df = pd.read_csv(\"./data/nn_subset_popularity.csv\")"
   ]
  },
  {
   "cell_type": "code",
   "execution_count": 14,
   "metadata": {},
   "outputs": [
    {
     "ename": "KeyError",
     "evalue": "\"['track_id']\"",
     "output_type": "error",
     "traceback": [
      "\u001b[0;31m---------------------------------------------------------------------------\u001b[0m",
      "\u001b[0;31mKeyError\u001b[0m                                  Traceback (most recent call last)",
      "\u001b[0;32m<ipython-input-14-8cbf57637a70>\u001b[0m in \u001b[0;36m<module>\u001b[0;34m\u001b[0m\n\u001b[0;32m----> 1\u001b[0;31m \u001b[0mdf\u001b[0m \u001b[0;34m=\u001b[0m \u001b[0mdf\u001b[0m\u001b[0;34m.\u001b[0m\u001b[0mset_index\u001b[0m\u001b[0;34m(\u001b[0m\u001b[0;34m\"track_id\"\u001b[0m\u001b[0;34m)\u001b[0m\u001b[0;34m\u001b[0m\u001b[0;34m\u001b[0m\u001b[0m\n\u001b[0m",
      "\u001b[0;32m~/music-cs182/.venv3/lib/python3.6/site-packages/pandas/core/frame.py\u001b[0m in \u001b[0;36mset_index\u001b[0;34m(self, keys, drop, append, inplace, verify_integrity)\u001b[0m\n\u001b[1;32m   4154\u001b[0m \u001b[0;34m\u001b[0m\u001b[0m\n\u001b[1;32m   4155\u001b[0m         \u001b[0;32mif\u001b[0m \u001b[0mmissing\u001b[0m\u001b[0;34m:\u001b[0m\u001b[0;34m\u001b[0m\u001b[0;34m\u001b[0m\u001b[0m\n\u001b[0;32m-> 4156\u001b[0;31m             \u001b[0;32mraise\u001b[0m \u001b[0mKeyError\u001b[0m\u001b[0;34m(\u001b[0m\u001b[0;34m'{}'\u001b[0m\u001b[0;34m.\u001b[0m\u001b[0mformat\u001b[0m\u001b[0;34m(\u001b[0m\u001b[0mmissing\u001b[0m\u001b[0;34m)\u001b[0m\u001b[0;34m)\u001b[0m\u001b[0;34m\u001b[0m\u001b[0;34m\u001b[0m\u001b[0m\n\u001b[0m\u001b[1;32m   4157\u001b[0m \u001b[0;34m\u001b[0m\u001b[0m\n\u001b[1;32m   4158\u001b[0m         \u001b[0;32mif\u001b[0m \u001b[0minplace\u001b[0m\u001b[0;34m:\u001b[0m\u001b[0;34m\u001b[0m\u001b[0;34m\u001b[0m\u001b[0m\n",
      "\u001b[0;31mKeyError\u001b[0m: \"['track_id']\""
     ]
    }
   ],
   "source": [
    "df = df.set_index(\"track_id\")"
   ]
  },
  {
   "cell_type": "code",
   "execution_count": 23,
   "metadata": {},
   "outputs": [],
   "source": [
    "with open(\"data/nn_subset_popularity_dict.pkl\", \"wb\") as f:\n",
    "    pickle.dump(df.to_dict()[\"play_count\"], f)"
   ]
  },
  {
   "cell_type": "code",
   "execution_count": 8,
   "metadata": {},
   "outputs": [
    {
     "name": "stdout",
     "output_type": "stream",
     "text": [
      "Name: pandas\n",
      "Version: 0.24.0\n",
      "Summary: Powerful data structures for data analysis, time series, and statistics\n",
      "Home-page: http://pandas.pydata.org\n",
      "Author: None\n",
      "Author-email: None\n",
      "License: BSD\n",
      "Location: /Users/daniellengyel/music-cs182/.venv3/lib/python3.6/site-packages\n",
      "Requires: numpy, python-dateutil, pytz\n",
      "Required-by: \n"
     ]
    }
   ],
   "source": [
    "!pip show pandas"
   ]
  }
 ],
 "metadata": {
  "kernelspec": {
   "display_name": "music-182-3",
   "language": "python",
   "name": "music-182-3"
  },
  "language_info": {
   "codemirror_mode": {
    "name": "ipython",
    "version": 3
   },
   "file_extension": ".py",
   "mimetype": "text/x-python",
   "name": "python",
   "nbconvert_exporter": "python",
   "pygments_lexer": "ipython3",
   "version": "3.6.8"
  }
 },
 "nbformat": 4,
 "nbformat_minor": 2
}
