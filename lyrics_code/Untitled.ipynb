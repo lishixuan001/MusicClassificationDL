{
 "cells": [
  {
   "cell_type": "code",
   "execution_count": 1,
   "metadata": {},
   "outputs": [],
   "source": [
    "import pickle"
   ]
  },
  {
   "cell_type": "code",
   "execution_count": 10,
   "metadata": {},
   "outputs": [],
   "source": [
    "with open(\"../data/Word2Vec/embedding.pickle\", 'rb') as file:\n",
    "    result1 = pickle.load(file)"
   ]
  },
  {
   "cell_type": "code",
   "execution_count": 11,
   "metadata": {},
   "outputs": [
    {
     "data": {
      "text/plain": [
       "matrix([[  2.03392792,   3.94178581,   4.13616943, ...,  -4.93133545,\n",
       "           0.84804535,   0.38574982],\n",
       "        [  8.13418579,   6.30454445,  11.05145264, ..., -16.06764221,\n",
       "          -0.13105774,   0.94999695],\n",
       "        [  4.68347931,   6.61586094,  13.39571381, ..., -13.2870636 ,\n",
       "           4.38444519, -13.47098541],\n",
       "        ...,\n",
       "        [  6.42468262,   4.57278061,  10.18107605, ...,  -9.00285339,\n",
       "          -2.54953003,  -2.11187363],\n",
       "        [ 22.58972168, -11.06545162,  19.33059692, ..., -17.83331299,\n",
       "          -7.27762961,  -2.57110596],\n",
       "        [ 12.54827118,   7.15980434,  13.06596375, ..., -14.32774353,\n",
       "           6.74341965, -12.17459106]])"
      ]
     },
     "execution_count": 11,
     "metadata": {},
     "output_type": "execute_result"
    }
   ],
   "source": [
    "result1"
   ]
  },
  {
   "cell_type": "code",
   "execution_count": 7,
   "metadata": {},
   "outputs": [],
   "source": [
    "with open(\"/Users/daniellengyel/Downloads/embedding.pickle\", 'rb') as file:\n",
    "    result = pickle.load(file)"
   ]
  },
  {
   "cell_type": "code",
   "execution_count": 8,
   "metadata": {},
   "outputs": [
    {
     "data": {
      "text/plain": [
       "(5000, 300)"
      ]
     },
     "execution_count": 8,
     "metadata": {},
     "output_type": "execute_result"
    }
   ],
   "source": [
    "result.shape"
   ]
  },
  {
   "cell_type": "code",
   "execution_count": 9,
   "metadata": {},
   "outputs": [
    {
     "data": {
      "text/plain": [
       "matrix([[-0.22558594, -0.01953125,  0.09082031, ...,  0.02819824,\n",
       "         -0.17773438, -0.00604248],\n",
       "        [ 0.08007812,  0.10498047,  0.04980469, ...,  0.00366211,\n",
       "          0.04760742, -0.06884766],\n",
       "        [ 0.20410156,  0.01318359,  0.07568359, ..., -0.21191406,\n",
       "         -0.1328125 ,  0.10839844],\n",
       "        ...,\n",
       "        [ 0.06884766,  0.17089844,  0.04174805, ..., -0.16796875,\n",
       "         -0.18359375, -0.08398438],\n",
       "        [ 0.03588867,  0.05908203,  0.02441406, ...,  0.09033203,\n",
       "         -0.01855469,  0.24023438],\n",
       "        [ 0.        ,  0.        ,  0.        , ...,  0.        ,\n",
       "          0.        ,  0.        ]])"
      ]
     },
     "execution_count": 9,
     "metadata": {},
     "output_type": "execute_result"
    }
   ],
   "source": [
    "result"
   ]
  },
  {
   "cell_type": "code",
   "execution_count": null,
   "metadata": {},
   "outputs": [],
   "source": []
  }
 ],
 "metadata": {
  "kernelspec": {
   "display_name": "music-182-3",
   "language": "python",
   "name": "music-182-3"
  },
  "language_info": {
   "codemirror_mode": {
    "name": "ipython",
    "version": 3
   },
   "file_extension": ".py",
   "mimetype": "text/x-python",
   "name": "python",
   "nbconvert_exporter": "python",
   "pygments_lexer": "ipython3",
   "version": "3.6.8"
  }
 },
 "nbformat": 4,
 "nbformat_minor": 2
}
