{
 "cells": [
  {
   "cell_type": "code",
   "execution_count": 1,
   "metadata": {},
   "outputs": [
    {
     "data": {
      "text/html": [
       "        <script type=\"text/javascript\">\n",
       "        window.PlotlyConfig = {MathJaxConfig: 'local'};\n",
       "        if (window.MathJax) {MathJax.Hub.Config({SVG: {font: \"STIX-Web\"}});}\n",
       "        if (typeof require !== 'undefined') {\n",
       "        require.undef(\"plotly\");\n",
       "        requirejs.config({\n",
       "            paths: {\n",
       "                'plotly': ['https://cdn.plot.ly/plotly-latest.min']\n",
       "            }\n",
       "        });\n",
       "        require(['plotly'], function(Plotly) {\n",
       "            window._Plotly = Plotly;\n",
       "        });\n",
       "        }\n",
       "        </script>\n",
       "        "
      ]
     },
     "metadata": {},
     "output_type": "display_data"
    }
   ],
   "source": [
    "import numpy as np\n",
    "from sklearn.manifold import TSNE\n",
    "import pickle\n",
    "# import matplotlib.pyplot as plt\n",
    "import plotly.plotly as py\n",
    "import plotly.graph_objs as go\n",
    "import plotly\n",
    "plotly.offline.init_notebook_mode(connected=True)\n",
    "\n",
    "import time\n",
    "import sqlite3\n",
    "import pandas as pd\n",
    "import json"
   ]
  },
  {
   "cell_type": "code",
   "execution_count": 2,
   "metadata": {},
   "outputs": [],
   "source": [
    "song_id_path = \"./data/song_track_artist.pkl\""
   ]
  },
  {
   "cell_type": "markdown",
   "metadata": {},
   "source": [
    "# Get genre embedding latent vectors"
   ]
  },
  {
   "cell_type": "code",
   "execution_count": 3,
   "metadata": {},
   "outputs": [],
   "source": [
    "genre_embeddings_path = \"./data/latent_embeddings.npy\"\n",
    "track_id_embeddings_path = \"./data/track_ids_nn.txt\""
   ]
  },
  {
   "cell_type": "code",
   "execution_count": 4,
   "metadata": {},
   "outputs": [],
   "source": [
    "genre_embeddings_np = np.load(genre_embeddings_path)\n",
    "track_ids = np.loadtxt(track_id_embeddings_path, dtype=\"str\")\n",
    "genre_embeddings_duplicates = pd.DataFrame(genre_embeddings_np, columns=list(range(genre_embeddings_np.shape[1])))\n",
    "genre_embeddings_duplicates.index = track_ids"
   ]
  },
  {
   "cell_type": "code",
   "execution_count": 5,
   "metadata": {},
   "outputs": [],
   "source": [
    "genre_embeddings = genre_embeddings_duplicates[~genre_embeddings_duplicates.index.duplicated(keep='first')]"
   ]
  },
  {
   "cell_type": "markdown",
   "metadata": {},
   "source": [
    "# get genre"
   ]
  },
  {
   "cell_type": "code",
   "execution_count": 6,
   "metadata": {},
   "outputs": [
    {
     "ename": "NameError",
     "evalue": "name 'better_df' is not defined",
     "output_type": "error",
     "traceback": [
      "\u001b[0;31m---------------------------------------------------------------------------\u001b[0m",
      "\u001b[0;31mNameError\u001b[0m                                 Traceback (most recent call last)",
      "\u001b[0;32m<ipython-input-6-2600d849a30c>\u001b[0m in \u001b[0;36m<module>\u001b[0;34m\u001b[0m\n\u001b[0;32m----> 1\u001b[0;31m \u001b[0mlen\u001b[0m\u001b[0;34m(\u001b[0m\u001b[0mbetter_df\u001b[0m\u001b[0;34m)\u001b[0m\u001b[0;34m\u001b[0m\u001b[0;34m\u001b[0m\u001b[0m\n\u001b[0m",
      "\u001b[0;31mNameError\u001b[0m: name 'better_df' is not defined"
     ]
    }
   ],
   "source": [
    "len(better_df)"
   ]
  },
  {
   "cell_type": "code",
   "execution_count": 7,
   "metadata": {},
   "outputs": [],
   "source": [
    "with open(\"./data/track-genre-mapping.json\", \"r\") as f:\n",
    "    track_genre = json.load(f)"
   ]
  },
  {
   "cell_type": "markdown",
   "metadata": {},
   "source": [
    "# Set track id filter to filtered_track_ids (used throughout)"
   ]
  },
  {
   "cell_type": "code",
   "execution_count": 8,
   "metadata": {},
   "outputs": [],
   "source": [
    "filtered_track_ids = genre_embeddings.index[:3000]"
   ]
  },
  {
   "cell_type": "markdown",
   "metadata": {},
   "source": [
    "# Get song_id to song_name mapping\n"
   ]
  },
  {
   "cell_type": "markdown",
   "metadata": {},
   "source": [
    "### using pkl file"
   ]
  },
  {
   "cell_type": "code",
   "execution_count": 9,
   "metadata": {},
   "outputs": [],
   "source": [
    "with open(song_id_path, \"rb\") as f:\n",
    "    u = pickle._Unpickler(f)\n",
    "    u.encoding = 'latin1'\n",
    "    song_name_artist = u.load()"
   ]
  },
  {
   "cell_type": "code",
   "execution_count": 10,
   "metadata": {},
   "outputs": [],
   "source": [
    "# getting everything in the right order\n",
    "song_name_artist_ordered = song_name_artist.set_index([\"track_id\"]).loc[filtered_track_ids]\n",
    "# song_artist_str = song_name_artist_ordered.apply(lambda r: \"artist: \" + r[\"artist_id\"] + \", song: \" + r[\"song_name\"], axis=1)\n",
    "song_artist_str = song_name_artist_ordered[\"artist_id\"]\n",
    "\n",
    "\n"
   ]
  },
  {
   "cell_type": "code",
   "execution_count": 11,
   "metadata": {},
   "outputs": [
    {
     "data": {
      "text/plain": [
       "(2921, 3)"
      ]
     },
     "execution_count": 11,
     "metadata": {},
     "output_type": "execute_result"
    }
   ],
   "source": [
    "song_name_artist_ordered.shape"
   ]
  },
  {
   "cell_type": "code",
   "execution_count": 12,
   "metadata": {},
   "outputs": [],
   "source": [
    "artists = song_name_artist_ordered[\"artist_id\"].values"
   ]
  },
  {
   "cell_type": "markdown",
   "metadata": {},
   "source": [
    "# Mark artists"
   ]
  },
  {
   "cell_type": "code",
   "execution_count": 13,
   "metadata": {},
   "outputs": [],
   "source": [
    "famous = [\"Lady GaGa\", \"Kanye West\", \"Bob Marley\", \"Bob Dylan\", \"Shakira\", \"Jay-Z\", \"Bon Jovi\", \"Michael Jackson\", \n",
    "         \"Mariah Carey\", \"Justin Timberlake\", \"Oasis\"]"
   ]
  },
  {
   "cell_type": "code",
   "execution_count": 14,
   "metadata": {},
   "outputs": [],
   "source": [
    "# colors = [int(a in famous) for a in artists]"
   ]
  },
  {
   "cell_type": "code",
   "execution_count": 15,
   "metadata": {},
   "outputs": [],
   "source": [
    "# max_popularity = song_popularity.iloc[0].values[0]\n",
    "# pre_colors = np.array([x[0]/max_popularity for x in song_popularity.values])"
   ]
  },
  {
   "cell_type": "code",
   "execution_count": 16,
   "metadata": {},
   "outputs": [
    {
     "data": {
      "text/plain": [
       "['Vocal',\n",
       " 'Punk',\n",
       " 'Rock',\n",
       " 'Country',\n",
       " 'Blues',\n",
       " 'New',\n",
       " 'World',\n",
       " 'Reggae',\n",
       " 'Jazz',\n",
       " 'Folk',\n",
       " 'RnB',\n",
       " 'International',\n",
       " 'Pop_Rock',\n",
       " 'Electronic',\n",
       " 'Metal',\n",
       " 'Rap',\n",
       " 'Pop',\n",
       " 'Latin']"
      ]
     },
     "execution_count": 16,
     "metadata": {},
     "output_type": "execute_result"
    }
   ],
   "source": [
    "genres = list(set(track_genre.values()))\n",
    "genres"
   ]
  },
  {
   "cell_type": "code",
   "execution_count": 17,
   "metadata": {},
   "outputs": [
    {
     "data": {
      "text/plain": [
       "4"
      ]
     },
     "execution_count": 17,
     "metadata": {},
     "output_type": "execute_result"
    }
   ],
   "source": [
    "genres.index(\"Blues\")"
   ]
  },
  {
   "cell_type": "code",
   "execution_count": 18,
   "metadata": {},
   "outputs": [],
   "source": [
    "def foo(t):\n",
    "    global genres\n",
    "    if t in track_genre:\n",
    "        return genres.index(track_genre[t])\n",
    "    return -1\n",
    "colors = song_name_artist_ordered.index.map(foo).values"
   ]
  },
  {
   "cell_type": "code",
   "execution_count": 19,
   "metadata": {},
   "outputs": [
    {
     "data": {
      "text/plain": [
       "array([2, 2, 2, ..., 2, 2, 2])"
      ]
     },
     "execution_count": 19,
     "metadata": {},
     "output_type": "execute_result"
    }
   ],
   "source": [
    "colors"
   ]
  },
  {
   "cell_type": "code",
   "execution_count": 20,
   "metadata": {},
   "outputs": [],
   "source": [
    "for a in artists:\n",
    "    if \"Kurt\" in a:\n",
    "        print(a)"
   ]
  },
  {
   "cell_type": "code",
   "execution_count": 21,
   "metadata": {},
   "outputs": [
    {
     "data": {
      "text/plain": [
       "array([2, 2, 2, ..., 2, 2, 2])"
      ]
     },
     "execution_count": 21,
     "metadata": {},
     "output_type": "execute_result"
    }
   ],
   "source": [
    "colors"
   ]
  },
  {
   "cell_type": "markdown",
   "metadata": {},
   "source": [
    "# Create t-SNE"
   ]
  },
  {
   "cell_type": "code",
   "execution_count": 22,
   "metadata": {},
   "outputs": [
    {
     "data": {
      "text/plain": [
       "Index(['TRMMMTK128F424EF7C', 'TRMMMKQ128F92EBCB5', 'TRMMMFG128F425087B',\n",
       "       'TRMMMQA128F14A454A', 'TRMMWJS12903CBB7F5', 'TRMMWQU12903CF447F',\n",
       "       'TRMMGTX128F92FB4D9', 'TRMMHDI128F42442F4', 'TRMMHKG12903CDB1B5',\n",
       "       'TRMMCBU128E0791823',\n",
       "       ...\n",
       "       'TRGQXUP128F92FFC1D', 'TRGQXDF12903D0FB07', 'TRGQXRC128E0780ED4',\n",
       "       'TRGQKVS12903CF5E1C', 'TRGQKTS128F428913E', 'TRGQYEQ12903CDFB2B',\n",
       "       'TRGQYAK128F9351C6B', 'TRGQYOV128F92DF473', 'TRGZMFZ128F427F03B',\n",
       "       'TRGZWLW128F9309DE8'],\n",
       "      dtype='object', length=2921)"
      ]
     },
     "execution_count": 22,
     "metadata": {},
     "output_type": "execute_result"
    }
   ],
   "source": [
    "filtered_track_ids"
   ]
  },
  {
   "cell_type": "code",
   "execution_count": 23,
   "metadata": {},
   "outputs": [],
   "source": [
    "embeddings_pure = genre_embeddings.loc[filtered_track_ids].values"
   ]
  },
  {
   "cell_type": "code",
   "execution_count": 24,
   "metadata": {},
   "outputs": [
    {
     "data": {
      "text/plain": [
       "(2921, 50)"
      ]
     },
     "execution_count": 24,
     "metadata": {},
     "output_type": "execute_result"
    }
   ],
   "source": [
    "embeddings_pure.shape"
   ]
  },
  {
   "cell_type": "code",
   "execution_count": 25,
   "metadata": {},
   "outputs": [
    {
     "data": {
      "text/plain": [
       "(2921, 2)"
      ]
     },
     "execution_count": 25,
     "metadata": {},
     "output_type": "execute_result"
    }
   ],
   "source": [
    "X_embedded = TSNE(n_components=2).fit_transform(embeddings_pure)\n",
    "X_embedded.shape"
   ]
  },
  {
   "cell_type": "code",
   "execution_count": 28,
   "metadata": {},
   "outputs": [],
   "source": [
    "by_genre_factors = {i: X_embedded[i == colors[:len(X_embedded)]] for i in range(len(genres))}\n",
    "by_genre_text = {i: song_artist_str[i == colors] for i in range(len(genres))}"
   ]
  },
  {
   "cell_type": "code",
   "execution_count": 29,
   "metadata": {},
   "outputs": [],
   "source": [
    "import colorlover as cl"
   ]
  },
  {
   "cell_type": "code",
   "execution_count": 30,
   "metadata": {},
   "outputs": [],
   "source": [
    "bupu = cl.scales['11']['div']['RdYlBu']\n",
    "\n",
    "bupu500 = cl.interp( bupu, 18 )"
   ]
  },
  {
   "cell_type": "code",
   "execution_count": 34,
   "metadata": {},
   "outputs": [
    {
     "data": {
      "text/plain": [
       "'tsne-scatter-genre.html'"
      ]
     },
     "execution_count": 34,
     "metadata": {},
     "output_type": "execute_result"
    }
   ],
   "source": [
    "# create a new plot with a title and axis labels\n",
    "scale = [[0.0, 'rgb(165,0,38)'], [0.1111111111111111, 'rgb(215,48,39)'], [0.2222222222222222, 'rgb(244,109,67)'],\n",
    "        [0.3333333333333333, 'rgb(253,174,97)'], [0.4444444444444444, 'rgb(254,224,144)'], [0.5555555555555556, 'rgb(224,243,248)'],\n",
    "        [0.6666666666666666, 'rgb(171,217,233)'],[0.7777777777777778, 'rgb(116,173,209)'], [0.8888888888888888, 'rgb(69,117,180)'],\n",
    "        [1.0, 'rgb(49,54,149)']]\n",
    "\n",
    "data = [go.Scatter(x=by_genre_factors[i][:,0], y=by_genre_factors[i][:,1], mode='markers',\n",
    "    marker=dict(\n",
    "        size=7,\n",
    "        color=bupu500[i]\n",
    "    ), text=np.array(by_genre_text[i]), name=genres[i]) for i in range(len(genres))]\n",
    "\n",
    "# fig = {\n",
    "#     'data': [\n",
    "#         {\n",
    "#             'x': df[df['year']==year]['gdpPercap'],\n",
    "#             'y': df[df['year']==year]['lifeExp'],\n",
    "#             'name': year, 'mode': 'markers',\n",
    "#         } for year in [1952, 1982, 2007]\n",
    "#     ],\n",
    "#     'layout': {\n",
    "#         'xaxis': {'title': 'GDP per Capita', 'type': 'log'},\n",
    "#         'yaxis': {'title': \"Life Expectancy\"}\n",
    "#     }\n",
    "# }\n",
    "\n",
    "\n",
    "plotly.offline.plot(data, filename=\"tsne-scatter-genre.html\")"
   ]
  },
  {
   "cell_type": "code",
   "execution_count": null,
   "metadata": {},
   "outputs": [],
   "source": [
    " cl.scales['11']"
   ]
  },
  {
   "cell_type": "code",
   "execution_count": 25,
   "metadata": {},
   "outputs": [
    {
     "name": "stdout",
     "output_type": "stream",
     "text": [
      "\u001b[33mDEPRECATION: Python 2.7 will reach the end of its life on January 1st, 2020. Please upgrade your Python as Python 2.7 won't be maintained after that date. A future version of pip will drop support for Python 2.7.\u001b[0m\n",
      "Requirement already satisfied: colorlover in /home/daniellengyel/.local/lib/python2.7/site-packages (0.3.0)\n"
     ]
    }
   ],
   "source": [
    "!pip install --user colorlover "
   ]
  },
  {
   "cell_type": "code",
   "execution_count": null,
   "metadata": {},
   "outputs": [],
   "source": []
  }
 ],
 "metadata": {
  "kernelspec": {
   "display_name": "music-182-3",
   "language": "python",
   "name": "music-182-3"
  },
  "language_info": {
   "codemirror_mode": {
    "name": "ipython",
    "version": 3
   },
   "file_extension": ".py",
   "mimetype": "text/x-python",
   "name": "python",
   "nbconvert_exporter": "python",
   "pygments_lexer": "ipython3",
   "version": "3.6.8"
  }
 },
 "nbformat": 4,
 "nbformat_minor": 2
}
